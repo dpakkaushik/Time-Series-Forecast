{
  "cells": [
    {
      "cell_type": "markdown",
      "metadata": {
        "id": "view-in-github",
        "colab_type": "text"
      },
      "source": [
        "<a href=\"https://colab.research.google.com/github/dpakkaushik/Time-Series-Forecast/blob/main/TimeSeries_Forecasting_Assignment.ipynb\" target=\"_parent\"><img src=\"https://colab.research.google.com/assets/colab-badge.svg\" alt=\"Open In Colab\"/></a>"
      ]
    },
    {
      "cell_type": "markdown",
      "source": [
        "# Time Series Forecast\n",
        "\n",
        "Time-series forecasting is a technique that utilizes historical and current data to predict future values over a period of time or a specific point in the future. By analyzing data that we stored in the past, we can make informed decisions that can guide our business strategy and help us understand future trends.\n",
        "\n",
        "\n",
        "\n",
        "\n",
        "## **Business Context:**\n",
        "One of leading electricity Distribution Company would like to understand demand for electricity for the next 1-2 years to manage the production of electricity and managing the vendors for the same. It is one of the important exercises to getting accurate estimation of demand so that they can procure or produce the electricity as per the demand.\n",
        "\n",
        "\n",
        "## **Available Data:**\n",
        "The data of monthly electricity consumption available starting from January 1973 to December 2019. We need to forecast the demand for next two years.\n",
        "1.\tDate – Month & Year\n",
        "2.\tElectricity Consumption – Electricity consumption in Trillion Watts\n",
        "\n",
        "\n",
        "## **Business Objective:**\n",
        "1.   Need to forecast the demand of electricity for next 1-2 years.\n",
        "2.   Compare various models including Decomposition, ETS models, ARIMA/SARIMA Models with various parameters etc…\n",
        "\n",
        "## **Performance Metrices**\n",
        "\n",
        "1.   Calculate error metrics (RMSE, RMSPE, MAPE)\n",
        "\n",
        "\n",
        "\n",
        "\n",
        "\n",
        "\n",
        "\n"
      ],
      "metadata": {
        "id": "DiAwAEGin7VH"
      },
      "id": "DiAwAEGin7VH"
    },
    {
      "cell_type": "code",
      "execution_count": 1,
      "metadata": {
        "id": "da2fa2ce"
      },
      "outputs": [],
      "source": [
        "#Importing Libraries\n",
        "import numpy as np\n",
        "import pandas as pd \n",
        "\n",
        "#import matplotlib for plotting\n",
        "import matplotlib.pyplot as plt\n",
        "%matplotlib inline\n",
        "\n",
        "#Ignore warinngs\n",
        "import warnings\n",
        "warnings.filterwarnings(\"ignore\")\n",
        "\n",
        "#pd.set_option('display.max_rows', None)  "
      ],
      "id": "da2fa2ce"
    },
    {
      "cell_type": "code",
      "execution_count": 2,
      "metadata": {
        "colab": {
          "base_uri": "https://localhost:8080/"
        },
        "id": "ZPu4qJBSZTuH",
        "outputId": "71a2a81c-1c36-440c-c925-5816d2f4a01f"
      },
      "outputs": [
        {
          "output_type": "stream",
          "name": "stdout",
          "text": [
            "Mounted at /content/drive\n"
          ]
        }
      ],
      "source": [
        "#Mounting google drive\n",
        "from google.colab import drive\n",
        "drive.mount('/content/drive') "
      ],
      "id": "ZPu4qJBSZTuH"
    },
    {
      "cell_type": "code",
      "execution_count": 3,
      "metadata": {
        "colab": {
          "base_uri": "https://localhost:8080/",
          "height": 206
        },
        "id": "74cf01f2",
        "outputId": "3925a25c-d7bf-4689-cf75-54795572e525"
      },
      "outputs": [
        {
          "output_type": "execute_result",
          "data": {
            "text/plain": [
              "       DATE  Electricty_Consumption_in_TW\n",
              "0  1/1/1973                       35.9728\n",
              "1  2/1/1973                       36.1334\n",
              "2  3/1/1973                       35.0625\n",
              "3  4/1/1973                       33.8416\n",
              "4  5/1/1973                       33.5107"
            ],
            "text/html": [
              "\n",
              "  <div id=\"df-7d060b0b-f18d-4582-8ccd-10b02ab97841\">\n",
              "    <div class=\"colab-df-container\">\n",
              "      <div>\n",
              "<style scoped>\n",
              "    .dataframe tbody tr th:only-of-type {\n",
              "        vertical-align: middle;\n",
              "    }\n",
              "\n",
              "    .dataframe tbody tr th {\n",
              "        vertical-align: top;\n",
              "    }\n",
              "\n",
              "    .dataframe thead th {\n",
              "        text-align: right;\n",
              "    }\n",
              "</style>\n",
              "<table border=\"1\" class=\"dataframe\">\n",
              "  <thead>\n",
              "    <tr style=\"text-align: right;\">\n",
              "      <th></th>\n",
              "      <th>DATE</th>\n",
              "      <th>Electricty_Consumption_in_TW</th>\n",
              "    </tr>\n",
              "  </thead>\n",
              "  <tbody>\n",
              "    <tr>\n",
              "      <th>0</th>\n",
              "      <td>1/1/1973</td>\n",
              "      <td>35.9728</td>\n",
              "    </tr>\n",
              "    <tr>\n",
              "      <th>1</th>\n",
              "      <td>2/1/1973</td>\n",
              "      <td>36.1334</td>\n",
              "    </tr>\n",
              "    <tr>\n",
              "      <th>2</th>\n",
              "      <td>3/1/1973</td>\n",
              "      <td>35.0625</td>\n",
              "    </tr>\n",
              "    <tr>\n",
              "      <th>3</th>\n",
              "      <td>4/1/1973</td>\n",
              "      <td>33.8416</td>\n",
              "    </tr>\n",
              "    <tr>\n",
              "      <th>4</th>\n",
              "      <td>5/1/1973</td>\n",
              "      <td>33.5107</td>\n",
              "    </tr>\n",
              "  </tbody>\n",
              "</table>\n",
              "</div>\n",
              "      <button class=\"colab-df-convert\" onclick=\"convertToInteractive('df-7d060b0b-f18d-4582-8ccd-10b02ab97841')\"\n",
              "              title=\"Convert this dataframe to an interactive table.\"\n",
              "              style=\"display:none;\">\n",
              "        \n",
              "  <svg xmlns=\"http://www.w3.org/2000/svg\" height=\"24px\"viewBox=\"0 0 24 24\"\n",
              "       width=\"24px\">\n",
              "    <path d=\"M0 0h24v24H0V0z\" fill=\"none\"/>\n",
              "    <path d=\"M18.56 5.44l.94 2.06.94-2.06 2.06-.94-2.06-.94-.94-2.06-.94 2.06-2.06.94zm-11 1L8.5 8.5l.94-2.06 2.06-.94-2.06-.94L8.5 2.5l-.94 2.06-2.06.94zm10 10l.94 2.06.94-2.06 2.06-.94-2.06-.94-.94-2.06-.94 2.06-2.06.94z\"/><path d=\"M17.41 7.96l-1.37-1.37c-.4-.4-.92-.59-1.43-.59-.52 0-1.04.2-1.43.59L10.3 9.45l-7.72 7.72c-.78.78-.78 2.05 0 2.83L4 21.41c.39.39.9.59 1.41.59.51 0 1.02-.2 1.41-.59l7.78-7.78 2.81-2.81c.8-.78.8-2.07 0-2.86zM5.41 20L4 18.59l7.72-7.72 1.47 1.35L5.41 20z\"/>\n",
              "  </svg>\n",
              "      </button>\n",
              "      \n",
              "  <style>\n",
              "    .colab-df-container {\n",
              "      display:flex;\n",
              "      flex-wrap:wrap;\n",
              "      gap: 12px;\n",
              "    }\n",
              "\n",
              "    .colab-df-convert {\n",
              "      background-color: #E8F0FE;\n",
              "      border: none;\n",
              "      border-radius: 50%;\n",
              "      cursor: pointer;\n",
              "      display: none;\n",
              "      fill: #1967D2;\n",
              "      height: 32px;\n",
              "      padding: 0 0 0 0;\n",
              "      width: 32px;\n",
              "    }\n",
              "\n",
              "    .colab-df-convert:hover {\n",
              "      background-color: #E2EBFA;\n",
              "      box-shadow: 0px 1px 2px rgba(60, 64, 67, 0.3), 0px 1px 3px 1px rgba(60, 64, 67, 0.15);\n",
              "      fill: #174EA6;\n",
              "    }\n",
              "\n",
              "    [theme=dark] .colab-df-convert {\n",
              "      background-color: #3B4455;\n",
              "      fill: #D2E3FC;\n",
              "    }\n",
              "\n",
              "    [theme=dark] .colab-df-convert:hover {\n",
              "      background-color: #434B5C;\n",
              "      box-shadow: 0px 1px 3px 1px rgba(0, 0, 0, 0.15);\n",
              "      filter: drop-shadow(0px 1px 2px rgba(0, 0, 0, 0.3));\n",
              "      fill: #FFFFFF;\n",
              "    }\n",
              "  </style>\n",
              "\n",
              "      <script>\n",
              "        const buttonEl =\n",
              "          document.querySelector('#df-7d060b0b-f18d-4582-8ccd-10b02ab97841 button.colab-df-convert');\n",
              "        buttonEl.style.display =\n",
              "          google.colab.kernel.accessAllowed ? 'block' : 'none';\n",
              "\n",
              "        async function convertToInteractive(key) {\n",
              "          const element = document.querySelector('#df-7d060b0b-f18d-4582-8ccd-10b02ab97841');\n",
              "          const dataTable =\n",
              "            await google.colab.kernel.invokeFunction('convertToInteractive',\n",
              "                                                     [key], {});\n",
              "          if (!dataTable) return;\n",
              "\n",
              "          const docLinkHtml = 'Like what you see? Visit the ' +\n",
              "            '<a target=\"_blank\" href=https://colab.research.google.com/notebooks/data_table.ipynb>data table notebook</a>'\n",
              "            + ' to learn more about interactive tables.';\n",
              "          element.innerHTML = '';\n",
              "          dataTable['output_type'] = 'display_data';\n",
              "          await google.colab.output.renderOutput(dataTable, element);\n",
              "          const docLink = document.createElement('div');\n",
              "          docLink.innerHTML = docLinkHtml;\n",
              "          element.appendChild(docLink);\n",
              "        }\n",
              "      </script>\n",
              "    </div>\n",
              "  </div>\n",
              "  "
            ]
          },
          "metadata": {},
          "execution_count": 3
        }
      ],
      "source": [
        "#setting path for data\n",
        "path = \"/content/drive/MyDrive/Data Sets/Electricity Consumption.csv\"\n",
        "#reading csv\n",
        "df = pd.read_csv(path)\n",
        "#show data\n",
        "df.head()"
      ],
      "id": "74cf01f2"
    },
    {
      "cell_type": "markdown",
      "metadata": {
        "id": "ab2f7d26"
      },
      "source": [
        "### EDA"
      ],
      "id": "ab2f7d26"
    },
    {
      "cell_type": "code",
      "execution_count": 4,
      "metadata": {
        "colab": {
          "base_uri": "https://localhost:8080/"
        },
        "id": "131156ae",
        "outputId": "bf258088-2bfe-4c81-cb39-5b2895a728a4"
      },
      "outputs": [
        {
          "output_type": "stream",
          "name": "stdout",
          "text": [
            "<class 'pandas.core.frame.DataFrame'>\n",
            "RangeIndex: 561 entries, 0 to 560\n",
            "Data columns (total 2 columns):\n",
            " #   Column                        Non-Null Count  Dtype  \n",
            "---  ------                        --------------  -----  \n",
            " 0   DATE                          561 non-null    object \n",
            " 1   Electricty_Consumption_in_TW  561 non-null    float64\n",
            "dtypes: float64(1), object(1)\n",
            "memory usage: 8.9+ KB\n"
          ]
        }
      ],
      "source": [
        "#Checking datatypes\n",
        "df.info()"
      ],
      "id": "131156ae"
    },
    {
      "cell_type": "code",
      "execution_count": 5,
      "metadata": {
        "colab": {
          "base_uri": "https://localhost:8080/"
        },
        "id": "0f2b5def",
        "outputId": "a0f7cecd-bae2-44fe-d9d7-5ad505d9ff2d"
      },
      "outputs": [
        {
          "output_type": "stream",
          "name": "stdout",
          "text": [
            "<class 'pandas.core.frame.DataFrame'>\n",
            "RangeIndex: 561 entries, 0 to 560\n",
            "Data columns (total 2 columns):\n",
            " #   Column                   Non-Null Count  Dtype  \n",
            "---  ------                   --------------  -----  \n",
            " 0   Date                     561 non-null    object \n",
            " 1   Electricity_Consumption  561 non-null    float64\n",
            "dtypes: float64(1), object(1)\n",
            "memory usage: 8.9+ KB\n",
            "<class 'pandas.core.frame.DataFrame'>\n",
            "RangeIndex: 561 entries, 0 to 560\n",
            "Data columns (total 4 columns):\n",
            " #   Column                   Non-Null Count  Dtype         \n",
            "---  ------                   --------------  -----         \n",
            " 0   Date                     561 non-null    datetime64[ns]\n",
            " 1   Electricity_Consumption  561 non-null    float64       \n",
            " 2   year                     561 non-null    int64         \n",
            " 3   month                    561 non-null    int64         \n",
            "dtypes: datetime64[ns](1), float64(1), int64(2)\n",
            "memory usage: 17.7 KB\n"
          ]
        }
      ],
      "source": [
        "#Renaming Column for easy addressing \n",
        "\n",
        "df.rename(columns={\"Electricty_Consumption_in_TW\": \"Electricity_Consumption\",\"DATE\": \"Date\"},inplace=True)\n",
        "\n",
        "df.info()\n",
        "\n",
        "#Formatting Date column to Datetime\n",
        "df['Date'] = pd.to_datetime(df.Date, format='%m/%d/%Y')\n",
        "\n",
        "#Extracting Year And Month column from Date and adding as new columns\n",
        "df['year'] = df.Date.dt.year\n",
        "df['month'] = df.Date.dt.month \n",
        "\n",
        "df.info()"
      ],
      "id": "0f2b5def"
    },
    {
      "cell_type": "markdown",
      "metadata": {
        "id": "685053bf"
      },
      "source": [
        "### Setting Index\n",
        "#### The data which is indexed by time is called Time Series data, hence need to set Date column as index"
      ],
      "id": "685053bf"
    },
    {
      "cell_type": "code",
      "execution_count": 6,
      "metadata": {
        "colab": {
          "base_uri": "https://localhost:8080/"
        },
        "id": "8258d148",
        "outputId": "cb66a148-bad1-4e4c-a659-92348092cc94"
      },
      "outputs": [
        {
          "output_type": "stream",
          "name": "stdout",
          "text": [
            "<class 'pandas.core.frame.DataFrame'>\n",
            "DatetimeIndex: 561 entries, 1973-01-01 to 2019-09-01\n",
            "Data columns (total 4 columns):\n",
            " #   Column                   Non-Null Count  Dtype         \n",
            "---  ------                   --------------  -----         \n",
            " 0   Date                     561 non-null    datetime64[ns]\n",
            " 1   Electricity_Consumption  561 non-null    float64       \n",
            " 2   year                     561 non-null    int64         \n",
            " 3   month                    561 non-null    int64         \n",
            "dtypes: datetime64[ns](1), float64(1), int64(2)\n",
            "memory usage: 21.9 KB\n"
          ]
        }
      ],
      "source": [
        "df.set_index(df.Date, inplace=True)\n",
        "\n",
        "#Checking Index\n",
        "df.info()"
      ],
      "id": "8258d148"
    },
    {
      "cell_type": "markdown",
      "metadata": {
        "id": "bc23efc9"
      },
      "source": [
        "### Checking Missing Values"
      ],
      "id": "bc23efc9"
    },
    {
      "cell_type": "code",
      "execution_count": 7,
      "metadata": {
        "colab": {
          "base_uri": "https://localhost:8080/",
          "height": 1000
        },
        "id": "ed79db14",
        "outputId": "d93729de-da66-4bd7-82e5-29f80e3c2108"
      },
      "outputs": [
        {
          "output_type": "stream",
          "name": "stdout",
          "text": [
            "Date                       0\n",
            "Electricity_Consumption    0\n",
            "year                       0\n",
            "month                      0\n",
            "dtype: int64\n"
          ]
        },
        {
          "output_type": "execute_result",
          "data": {
            "text/plain": [
              "      Date  Electricity_Consumption  year  month\n",
              "Date                                            \n",
              "1973    12                       12    12     12\n",
              "1974    12                       12    12     12\n",
              "1975    12                       12    12     12\n",
              "1976    12                       12    12     12\n",
              "1977    12                       12    12     12\n",
              "1978    12                       12    12     12\n",
              "1979    12                       12    12     12\n",
              "1980    12                       12    12     12\n",
              "1981    12                       12    12     12\n",
              "1982    12                       12    12     12\n",
              "1983    12                       12    12     12\n",
              "1984    12                       12    12     12\n",
              "1985    12                       12    12     12\n",
              "1986    12                       12    12     12\n",
              "1987    12                       12    12     12\n",
              "1988    12                       12    12     12\n",
              "1989    12                       12    12     12\n",
              "1990    12                       12    12     12\n",
              "1991    12                       12    12     12\n",
              "1992    12                       12    12     12\n",
              "1993    12                       12    12     12\n",
              "1994    12                       12    12     12\n",
              "1995    12                       12    12     12\n",
              "1996    12                       12    12     12\n",
              "1997    12                       12    12     12\n",
              "1998    12                       12    12     12\n",
              "1999    12                       12    12     12\n",
              "2000    12                       12    12     12\n",
              "2001    12                       12    12     12\n",
              "2002    12                       12    12     12\n",
              "2003    12                       12    12     12\n",
              "2004    12                       12    12     12\n",
              "2005    12                       12    12     12\n",
              "2006    12                       12    12     12\n",
              "2007    12                       12    12     12\n",
              "2008    12                       12    12     12\n",
              "2009    12                       12    12     12\n",
              "2010    12                       12    12     12\n",
              "2011    12                       12    12     12\n",
              "2012    12                       12    12     12\n",
              "2013    12                       12    12     12\n",
              "2014    12                       12    12     12\n",
              "2015    12                       12    12     12\n",
              "2016    12                       12    12     12\n",
              "2017    12                       12    12     12\n",
              "2018    12                       12    12     12\n",
              "2019     9                        9     9      9"
            ],
            "text/html": [
              "\n",
              "  <div id=\"df-31df7c94-edf3-48c1-b3ac-9da85c927268\">\n",
              "    <div class=\"colab-df-container\">\n",
              "      <div>\n",
              "<style scoped>\n",
              "    .dataframe tbody tr th:only-of-type {\n",
              "        vertical-align: middle;\n",
              "    }\n",
              "\n",
              "    .dataframe tbody tr th {\n",
              "        vertical-align: top;\n",
              "    }\n",
              "\n",
              "    .dataframe thead th {\n",
              "        text-align: right;\n",
              "    }\n",
              "</style>\n",
              "<table border=\"1\" class=\"dataframe\">\n",
              "  <thead>\n",
              "    <tr style=\"text-align: right;\">\n",
              "      <th></th>\n",
              "      <th>Date</th>\n",
              "      <th>Electricity_Consumption</th>\n",
              "      <th>year</th>\n",
              "      <th>month</th>\n",
              "    </tr>\n",
              "    <tr>\n",
              "      <th>Date</th>\n",
              "      <th></th>\n",
              "      <th></th>\n",
              "      <th></th>\n",
              "      <th></th>\n",
              "    </tr>\n",
              "  </thead>\n",
              "  <tbody>\n",
              "    <tr>\n",
              "      <th>1973</th>\n",
              "      <td>12</td>\n",
              "      <td>12</td>\n",
              "      <td>12</td>\n",
              "      <td>12</td>\n",
              "    </tr>\n",
              "    <tr>\n",
              "      <th>1974</th>\n",
              "      <td>12</td>\n",
              "      <td>12</td>\n",
              "      <td>12</td>\n",
              "      <td>12</td>\n",
              "    </tr>\n",
              "    <tr>\n",
              "      <th>1975</th>\n",
              "      <td>12</td>\n",
              "      <td>12</td>\n",
              "      <td>12</td>\n",
              "      <td>12</td>\n",
              "    </tr>\n",
              "    <tr>\n",
              "      <th>1976</th>\n",
              "      <td>12</td>\n",
              "      <td>12</td>\n",
              "      <td>12</td>\n",
              "      <td>12</td>\n",
              "    </tr>\n",
              "    <tr>\n",
              "      <th>1977</th>\n",
              "      <td>12</td>\n",
              "      <td>12</td>\n",
              "      <td>12</td>\n",
              "      <td>12</td>\n",
              "    </tr>\n",
              "    <tr>\n",
              "      <th>1978</th>\n",
              "      <td>12</td>\n",
              "      <td>12</td>\n",
              "      <td>12</td>\n",
              "      <td>12</td>\n",
              "    </tr>\n",
              "    <tr>\n",
              "      <th>1979</th>\n",
              "      <td>12</td>\n",
              "      <td>12</td>\n",
              "      <td>12</td>\n",
              "      <td>12</td>\n",
              "    </tr>\n",
              "    <tr>\n",
              "      <th>1980</th>\n",
              "      <td>12</td>\n",
              "      <td>12</td>\n",
              "      <td>12</td>\n",
              "      <td>12</td>\n",
              "    </tr>\n",
              "    <tr>\n",
              "      <th>1981</th>\n",
              "      <td>12</td>\n",
              "      <td>12</td>\n",
              "      <td>12</td>\n",
              "      <td>12</td>\n",
              "    </tr>\n",
              "    <tr>\n",
              "      <th>1982</th>\n",
              "      <td>12</td>\n",
              "      <td>12</td>\n",
              "      <td>12</td>\n",
              "      <td>12</td>\n",
              "    </tr>\n",
              "    <tr>\n",
              "      <th>1983</th>\n",
              "      <td>12</td>\n",
              "      <td>12</td>\n",
              "      <td>12</td>\n",
              "      <td>12</td>\n",
              "    </tr>\n",
              "    <tr>\n",
              "      <th>1984</th>\n",
              "      <td>12</td>\n",
              "      <td>12</td>\n",
              "      <td>12</td>\n",
              "      <td>12</td>\n",
              "    </tr>\n",
              "    <tr>\n",
              "      <th>1985</th>\n",
              "      <td>12</td>\n",
              "      <td>12</td>\n",
              "      <td>12</td>\n",
              "      <td>12</td>\n",
              "    </tr>\n",
              "    <tr>\n",
              "      <th>1986</th>\n",
              "      <td>12</td>\n",
              "      <td>12</td>\n",
              "      <td>12</td>\n",
              "      <td>12</td>\n",
              "    </tr>\n",
              "    <tr>\n",
              "      <th>1987</th>\n",
              "      <td>12</td>\n",
              "      <td>12</td>\n",
              "      <td>12</td>\n",
              "      <td>12</td>\n",
              "    </tr>\n",
              "    <tr>\n",
              "      <th>1988</th>\n",
              "      <td>12</td>\n",
              "      <td>12</td>\n",
              "      <td>12</td>\n",
              "      <td>12</td>\n",
              "    </tr>\n",
              "    <tr>\n",
              "      <th>1989</th>\n",
              "      <td>12</td>\n",
              "      <td>12</td>\n",
              "      <td>12</td>\n",
              "      <td>12</td>\n",
              "    </tr>\n",
              "    <tr>\n",
              "      <th>1990</th>\n",
              "      <td>12</td>\n",
              "      <td>12</td>\n",
              "      <td>12</td>\n",
              "      <td>12</td>\n",
              "    </tr>\n",
              "    <tr>\n",
              "      <th>1991</th>\n",
              "      <td>12</td>\n",
              "      <td>12</td>\n",
              "      <td>12</td>\n",
              "      <td>12</td>\n",
              "    </tr>\n",
              "    <tr>\n",
              "      <th>1992</th>\n",
              "      <td>12</td>\n",
              "      <td>12</td>\n",
              "      <td>12</td>\n",
              "      <td>12</td>\n",
              "    </tr>\n",
              "    <tr>\n",
              "      <th>1993</th>\n",
              "      <td>12</td>\n",
              "      <td>12</td>\n",
              "      <td>12</td>\n",
              "      <td>12</td>\n",
              "    </tr>\n",
              "    <tr>\n",
              "      <th>1994</th>\n",
              "      <td>12</td>\n",
              "      <td>12</td>\n",
              "      <td>12</td>\n",
              "      <td>12</td>\n",
              "    </tr>\n",
              "    <tr>\n",
              "      <th>1995</th>\n",
              "      <td>12</td>\n",
              "      <td>12</td>\n",
              "      <td>12</td>\n",
              "      <td>12</td>\n",
              "    </tr>\n",
              "    <tr>\n",
              "      <th>1996</th>\n",
              "      <td>12</td>\n",
              "      <td>12</td>\n",
              "      <td>12</td>\n",
              "      <td>12</td>\n",
              "    </tr>\n",
              "    <tr>\n",
              "      <th>1997</th>\n",
              "      <td>12</td>\n",
              "      <td>12</td>\n",
              "      <td>12</td>\n",
              "      <td>12</td>\n",
              "    </tr>\n",
              "    <tr>\n",
              "      <th>1998</th>\n",
              "      <td>12</td>\n",
              "      <td>12</td>\n",
              "      <td>12</td>\n",
              "      <td>12</td>\n",
              "    </tr>\n",
              "    <tr>\n",
              "      <th>1999</th>\n",
              "      <td>12</td>\n",
              "      <td>12</td>\n",
              "      <td>12</td>\n",
              "      <td>12</td>\n",
              "    </tr>\n",
              "    <tr>\n",
              "      <th>2000</th>\n",
              "      <td>12</td>\n",
              "      <td>12</td>\n",
              "      <td>12</td>\n",
              "      <td>12</td>\n",
              "    </tr>\n",
              "    <tr>\n",
              "      <th>2001</th>\n",
              "      <td>12</td>\n",
              "      <td>12</td>\n",
              "      <td>12</td>\n",
              "      <td>12</td>\n",
              "    </tr>\n",
              "    <tr>\n",
              "      <th>2002</th>\n",
              "      <td>12</td>\n",
              "      <td>12</td>\n",
              "      <td>12</td>\n",
              "      <td>12</td>\n",
              "    </tr>\n",
              "    <tr>\n",
              "      <th>2003</th>\n",
              "      <td>12</td>\n",
              "      <td>12</td>\n",
              "      <td>12</td>\n",
              "      <td>12</td>\n",
              "    </tr>\n",
              "    <tr>\n",
              "      <th>2004</th>\n",
              "      <td>12</td>\n",
              "      <td>12</td>\n",
              "      <td>12</td>\n",
              "      <td>12</td>\n",
              "    </tr>\n",
              "    <tr>\n",
              "      <th>2005</th>\n",
              "      <td>12</td>\n",
              "      <td>12</td>\n",
              "      <td>12</td>\n",
              "      <td>12</td>\n",
              "    </tr>\n",
              "    <tr>\n",
              "      <th>2006</th>\n",
              "      <td>12</td>\n",
              "      <td>12</td>\n",
              "      <td>12</td>\n",
              "      <td>12</td>\n",
              "    </tr>\n",
              "    <tr>\n",
              "      <th>2007</th>\n",
              "      <td>12</td>\n",
              "      <td>12</td>\n",
              "      <td>12</td>\n",
              "      <td>12</td>\n",
              "    </tr>\n",
              "    <tr>\n",
              "      <th>2008</th>\n",
              "      <td>12</td>\n",
              "      <td>12</td>\n",
              "      <td>12</td>\n",
              "      <td>12</td>\n",
              "    </tr>\n",
              "    <tr>\n",
              "      <th>2009</th>\n",
              "      <td>12</td>\n",
              "      <td>12</td>\n",
              "      <td>12</td>\n",
              "      <td>12</td>\n",
              "    </tr>\n",
              "    <tr>\n",
              "      <th>2010</th>\n",
              "      <td>12</td>\n",
              "      <td>12</td>\n",
              "      <td>12</td>\n",
              "      <td>12</td>\n",
              "    </tr>\n",
              "    <tr>\n",
              "      <th>2011</th>\n",
              "      <td>12</td>\n",
              "      <td>12</td>\n",
              "      <td>12</td>\n",
              "      <td>12</td>\n",
              "    </tr>\n",
              "    <tr>\n",
              "      <th>2012</th>\n",
              "      <td>12</td>\n",
              "      <td>12</td>\n",
              "      <td>12</td>\n",
              "      <td>12</td>\n",
              "    </tr>\n",
              "    <tr>\n",
              "      <th>2013</th>\n",
              "      <td>12</td>\n",
              "      <td>12</td>\n",
              "      <td>12</td>\n",
              "      <td>12</td>\n",
              "    </tr>\n",
              "    <tr>\n",
              "      <th>2014</th>\n",
              "      <td>12</td>\n",
              "      <td>12</td>\n",
              "      <td>12</td>\n",
              "      <td>12</td>\n",
              "    </tr>\n",
              "    <tr>\n",
              "      <th>2015</th>\n",
              "      <td>12</td>\n",
              "      <td>12</td>\n",
              "      <td>12</td>\n",
              "      <td>12</td>\n",
              "    </tr>\n",
              "    <tr>\n",
              "      <th>2016</th>\n",
              "      <td>12</td>\n",
              "      <td>12</td>\n",
              "      <td>12</td>\n",
              "      <td>12</td>\n",
              "    </tr>\n",
              "    <tr>\n",
              "      <th>2017</th>\n",
              "      <td>12</td>\n",
              "      <td>12</td>\n",
              "      <td>12</td>\n",
              "      <td>12</td>\n",
              "    </tr>\n",
              "    <tr>\n",
              "      <th>2018</th>\n",
              "      <td>12</td>\n",
              "      <td>12</td>\n",
              "      <td>12</td>\n",
              "      <td>12</td>\n",
              "    </tr>\n",
              "    <tr>\n",
              "      <th>2019</th>\n",
              "      <td>9</td>\n",
              "      <td>9</td>\n",
              "      <td>9</td>\n",
              "      <td>9</td>\n",
              "    </tr>\n",
              "  </tbody>\n",
              "</table>\n",
              "</div>\n",
              "      <button class=\"colab-df-convert\" onclick=\"convertToInteractive('df-31df7c94-edf3-48c1-b3ac-9da85c927268')\"\n",
              "              title=\"Convert this dataframe to an interactive table.\"\n",
              "              style=\"display:none;\">\n",
              "        \n",
              "  <svg xmlns=\"http://www.w3.org/2000/svg\" height=\"24px\"viewBox=\"0 0 24 24\"\n",
              "       width=\"24px\">\n",
              "    <path d=\"M0 0h24v24H0V0z\" fill=\"none\"/>\n",
              "    <path d=\"M18.56 5.44l.94 2.06.94-2.06 2.06-.94-2.06-.94-.94-2.06-.94 2.06-2.06.94zm-11 1L8.5 8.5l.94-2.06 2.06-.94-2.06-.94L8.5 2.5l-.94 2.06-2.06.94zm10 10l.94 2.06.94-2.06 2.06-.94-2.06-.94-.94-2.06-.94 2.06-2.06.94z\"/><path d=\"M17.41 7.96l-1.37-1.37c-.4-.4-.92-.59-1.43-.59-.52 0-1.04.2-1.43.59L10.3 9.45l-7.72 7.72c-.78.78-.78 2.05 0 2.83L4 21.41c.39.39.9.59 1.41.59.51 0 1.02-.2 1.41-.59l7.78-7.78 2.81-2.81c.8-.78.8-2.07 0-2.86zM5.41 20L4 18.59l7.72-7.72 1.47 1.35L5.41 20z\"/>\n",
              "  </svg>\n",
              "      </button>\n",
              "      \n",
              "  <style>\n",
              "    .colab-df-container {\n",
              "      display:flex;\n",
              "      flex-wrap:wrap;\n",
              "      gap: 12px;\n",
              "    }\n",
              "\n",
              "    .colab-df-convert {\n",
              "      background-color: #E8F0FE;\n",
              "      border: none;\n",
              "      border-radius: 50%;\n",
              "      cursor: pointer;\n",
              "      display: none;\n",
              "      fill: #1967D2;\n",
              "      height: 32px;\n",
              "      padding: 0 0 0 0;\n",
              "      width: 32px;\n",
              "    }\n",
              "\n",
              "    .colab-df-convert:hover {\n",
              "      background-color: #E2EBFA;\n",
              "      box-shadow: 0px 1px 2px rgba(60, 64, 67, 0.3), 0px 1px 3px 1px rgba(60, 64, 67, 0.15);\n",
              "      fill: #174EA6;\n",
              "    }\n",
              "\n",
              "    [theme=dark] .colab-df-convert {\n",
              "      background-color: #3B4455;\n",
              "      fill: #D2E3FC;\n",
              "    }\n",
              "\n",
              "    [theme=dark] .colab-df-convert:hover {\n",
              "      background-color: #434B5C;\n",
              "      box-shadow: 0px 1px 3px 1px rgba(0, 0, 0, 0.15);\n",
              "      filter: drop-shadow(0px 1px 2px rgba(0, 0, 0, 0.3));\n",
              "      fill: #FFFFFF;\n",
              "    }\n",
              "  </style>\n",
              "\n",
              "      <script>\n",
              "        const buttonEl =\n",
              "          document.querySelector('#df-31df7c94-edf3-48c1-b3ac-9da85c927268 button.colab-df-convert');\n",
              "        buttonEl.style.display =\n",
              "          google.colab.kernel.accessAllowed ? 'block' : 'none';\n",
              "\n",
              "        async function convertToInteractive(key) {\n",
              "          const element = document.querySelector('#df-31df7c94-edf3-48c1-b3ac-9da85c927268');\n",
              "          const dataTable =\n",
              "            await google.colab.kernel.invokeFunction('convertToInteractive',\n",
              "                                                     [key], {});\n",
              "          if (!dataTable) return;\n",
              "\n",
              "          const docLinkHtml = 'Like what you see? Visit the ' +\n",
              "            '<a target=\"_blank\" href=https://colab.research.google.com/notebooks/data_table.ipynb>data table notebook</a>'\n",
              "            + ' to learn more about interactive tables.';\n",
              "          element.innerHTML = '';\n",
              "          dataTable['output_type'] = 'display_data';\n",
              "          await google.colab.output.renderOutput(dataTable, element);\n",
              "          const docLink = document.createElement('div');\n",
              "          docLink.innerHTML = docLinkHtml;\n",
              "          element.appendChild(docLink);\n",
              "        }\n",
              "      </script>\n",
              "    </div>\n",
              "  </div>\n",
              "  "
            ]
          },
          "metadata": {},
          "execution_count": 7
        }
      ],
      "source": [
        "#Using isna for missing data\n",
        "print(df.isna().sum())\n",
        "\n",
        "#Using groupby to check for any missing month\n",
        "df.groupby(df.Date.map(lambda x : x.year)).count()"
      ],
      "id": "ed79db14"
    },
    {
      "cell_type": "code",
      "execution_count": 8,
      "metadata": {
        "colab": {
          "base_uri": "https://localhost:8080/",
          "height": 296
        },
        "id": "568968e4",
        "outputId": "8f0bbaff-9204-4f65-d040-a9ad97ed9117"
      },
      "outputs": [
        {
          "output_type": "execute_result",
          "data": {
            "text/plain": [
              "<matplotlib.axes._subplots.AxesSubplot at 0x7fbc233f5e20>"
            ]
          },
          "metadata": {},
          "execution_count": 8
        },
        {
          "output_type": "display_data",
          "data": {
            "text/plain": [
              "<Figure size 432x288 with 1 Axes>"
            ],
            "image/png": "[encoded data removed]"
          },
          "metadata": {
            "needs_background": "light"
          }
        }
      ],
      "source": [
        "pd.pivot_table(data = df, index = 'year', columns = 'month', values = 'Electricity_Consumption').plot()"
      ],
      "id": "568968e4"
    },
    {
      "cell_type": "code",
      "execution_count": 9,
      "metadata": {
        "colab": {
          "base_uri": "https://localhost:8080/",
          "height": 776
        },
        "id": "1bda1869",
        "outputId": "f6a48e55-50a4-498c-bc5d-e8af25966240"
      },
      "outputs": [
        {
          "output_type": "execute_result",
          "data": {
            "text/plain": [
              "<matplotlib.axes._subplots.AxesSubplot at 0x7fbc2329a580>"
            ]
          },
          "metadata": {},
          "execution_count": 9
        },
        {
          "output_type": "display_data",
          "data": {
            "text/plain": [
              "<Figure size 432x288 with 1 Axes>"
            ],
            "image/png": "[encoded data removed]"
          },
          "metadata": {
            "needs_background": "light"
          }
        }
      ],
      "source": [
        "pd.pivot_table(data = df, index = 'month', columns = 'year', values = 'Electricity_Consumption').plot()"
      ],
      "id": "1bda1869"
    },
    {
      "cell_type": "markdown",
      "metadata": {
        "id": "2ea2c5d5"
      },
      "source": [
        "### Uses centered moving Average for Decentralise and detrend"
      ],
      "id": "2ea2c5d5"
    },
    {
      "cell_type": "code",
      "execution_count": 10,
      "metadata": {
        "id": "ba1b8cb4"
      },
      "outputs": [],
      "source": [
        "from statsmodels.tsa.seasonal import seasonal_decompose"
      ],
      "id": "ba1b8cb4"
    },
    {
      "cell_type": "code",
      "execution_count": 11,
      "metadata": {
        "colab": {
          "base_uri": "https://localhost:8080/",
          "height": 577
        },
        "id": "91df89ae",
        "outputId": "7a38b93b-4e9f-46ef-e4fa-a1ec8c2dca32"
      },
      "outputs": [
        {
          "output_type": "execute_result",
          "data": {
            "text/plain": [
              "<Figure size 432x288 with 4 Axes>"
            ],
            "image/png": "[encoded data removed]"
          },
          "metadata": {},
          "execution_count": 11
        },
        {
          "output_type": "display_data",
          "data": {
            "text/plain": [
              "<Figure size 432x288 with 4 Axes>"
            ],
            "image/png": "[encoded data removed]"
          },
          "metadata": {
            "needs_background": "light"
          }
        }
      ],
      "source": [
        "#decom = seasonal_decompose(ts, model='multiplicative')\n",
        "\n",
        "TS = df.Electricity_Consumption \n",
        "decom1 = seasonal_decompose(TS, model='additive')\n",
        "\n",
        "#Plotting decomposed graph\n",
        "\n",
        "decom1.plot()"
      ],
      "id": "91df89ae"
    },
    {
      "cell_type": "code",
      "execution_count": 12,
      "metadata": {
        "colab": {
          "base_uri": "https://localhost:8080/"
        },
        "id": "883b065c",
        "outputId": "90d874f3-dac9-4b9b-e7b5-350a857c318d"
      },
      "outputs": [
        {
          "output_type": "execute_result",
          "data": {
            "text/plain": [
              "statsmodels.tsa.seasonal.DecomposeResult"
            ]
          },
          "metadata": {},
          "execution_count": 12
        }
      ],
      "source": [
        "type(decom1)"
      ],
      "id": "883b065c"
    },
    {
      "cell_type": "code",
      "execution_count": 13,
      "metadata": {
        "colab": {
          "base_uri": "https://localhost:8080/",
          "height": 457
        },
        "id": "0648371c",
        "outputId": "9c058f15-9d23-45b0-98de-d5f3d957ce96"
      },
      "outputs": [
        {
          "output_type": "execute_result",
          "data": {
            "text/plain": [
              "            Electricity_Consumption      trend   seasonal     resid\n",
              "Date                                                               \n",
              "1973-01-01                  35.9728        NaN   4.135755       NaN\n",
              "1973-02-01                  36.1334        NaN  -0.705922       NaN\n",
              "1973-03-01                  35.0625        NaN  -4.489678       NaN\n",
              "1973-04-01                  33.8416        NaN  -8.668415       NaN\n",
              "1973-05-01                  33.5107        NaN  -6.044817       NaN\n",
              "1973-06-01                  36.4823        NaN   2.943116       NaN\n",
              "1973-07-01                  39.1412  37.223388  10.277826 -8.360014\n",
              "1973-08-01                  41.4137  37.576442  10.828421 -6.991163\n",
              "1973-09-01                  40.1639  37.850562   2.891998 -0.578660\n",
              "1973-10-01                  37.1133  38.072942  -5.105992  4.146351\n",
              "1973-11-01                  37.0248  38.301167  -6.171314  4.894947\n",
              "1973-12-01                  38.4341  38.610592   0.109021 -0.285513"
            ],
            "text/html": [
              "\n",
              "  <div id=\"df-9706f7f5-7556-4807-b66a-7e074202ae87\">\n",
              "    <div class=\"colab-df-container\">\n",
              "      <div>\n",
              "<style scoped>\n",
              "    .dataframe tbody tr th:only-of-type {\n",
              "        vertical-align: middle;\n",
              "    }\n",
              "\n",
              "    .dataframe tbody tr th {\n",
              "        vertical-align: top;\n",
              "    }\n",
              "\n",
              "    .dataframe thead th {\n",
              "        text-align: right;\n",
              "    }\n",
              "</style>\n",
              "<table border=\"1\" class=\"dataframe\">\n",
              "  <thead>\n",
              "    <tr style=\"text-align: right;\">\n",
              "      <th></th>\n",
              "      <th>Electricity_Consumption</th>\n",
              "      <th>trend</th>\n",
              "      <th>seasonal</th>\n",
              "      <th>resid</th>\n",
              "    </tr>\n",
              "    <tr>\n",
              "      <th>Date</th>\n",
              "      <th></th>\n",
              "      <th></th>\n",
              "      <th></th>\n",
              "      <th></th>\n",
              "    </tr>\n",
              "  </thead>\n",
              "  <tbody>\n",
              "    <tr>\n",
              "      <th>1973-01-01</th>\n",
              "      <td>35.9728</td>\n",
              "      <td>NaN</td>\n",
              "      <td>4.135755</td>\n",
              "      <td>NaN</td>\n",
              "    </tr>\n",
              "    <tr>\n",
              "      <th>1973-02-01</th>\n",
              "      <td>36.1334</td>\n",
              "      <td>NaN</td>\n",
              "      <td>-0.705922</td>\n",
              "      <td>NaN</td>\n",
              "    </tr>\n",
              "    <tr>\n",
              "      <th>1973-03-01</th>\n",
              "      <td>35.0625</td>\n",
              "      <td>NaN</td>\n",
              "      <td>-4.489678</td>\n",
              "      <td>NaN</td>\n",
              "    </tr>\n",
              "    <tr>\n",
              "      <th>1973-04-01</th>\n",
              "      <td>33.8416</td>\n",
              "      <td>NaN</td>\n",
              "      <td>-8.668415</td>\n",
              "      <td>NaN</td>\n",
              "    </tr>\n",
              "    <tr>\n",
              "      <th>1973-05-01</th>\n",
              "      <td>33.5107</td>\n",
              "      <td>NaN</td>\n",
              "      <td>-6.044817</td>\n",
              "      <td>NaN</td>\n",
              "    </tr>\n",
              "    <tr>\n",
              "      <th>1973-06-01</th>\n",
              "      <td>36.4823</td>\n",
              "      <td>NaN</td>\n",
              "      <td>2.943116</td>\n",
              "      <td>NaN</td>\n",
              "    </tr>\n",
              "    <tr>\n",
              "      <th>1973-07-01</th>\n",
              "      <td>39.1412</td>\n",
              "      <td>37.223388</td>\n",
              "      <td>10.277826</td>\n",
              "      <td>-8.360014</td>\n",
              "    </tr>\n",
              "    <tr>\n",
              "      <th>1973-08-01</th>\n",
              "      <td>41.4137</td>\n",
              "      <td>37.576442</td>\n",
              "      <td>10.828421</td>\n",
              "      <td>-6.991163</td>\n",
              "    </tr>\n",
              "    <tr>\n",
              "      <th>1973-09-01</th>\n",
              "      <td>40.1639</td>\n",
              "      <td>37.850562</td>\n",
              "      <td>2.891998</td>\n",
              "      <td>-0.578660</td>\n",
              "    </tr>\n",
              "    <tr>\n",
              "      <th>1973-10-01</th>\n",
              "      <td>37.1133</td>\n",
              "      <td>38.072942</td>\n",
              "      <td>-5.105992</td>\n",
              "      <td>4.146351</td>\n",
              "    </tr>\n",
              "    <tr>\n",
              "      <th>1973-11-01</th>\n",
              "      <td>37.0248</td>\n",
              "      <td>38.301167</td>\n",
              "      <td>-6.171314</td>\n",
              "      <td>4.894947</td>\n",
              "    </tr>\n",
              "    <tr>\n",
              "      <th>1973-12-01</th>\n",
              "      <td>38.4341</td>\n",
              "      <td>38.610592</td>\n",
              "      <td>0.109021</td>\n",
              "      <td>-0.285513</td>\n",
              "    </tr>\n",
              "  </tbody>\n",
              "</table>\n",
              "</div>\n",
              "      <button class=\"colab-df-convert\" onclick=\"convertToInteractive('df-9706f7f5-7556-4807-b66a-7e074202ae87')\"\n",
              "              title=\"Convert this dataframe to an interactive table.\"\n",
              "              style=\"display:none;\">\n",
              "        \n",
              "  <svg xmlns=\"http://www.w3.org/2000/svg\" height=\"24px\"viewBox=\"0 0 24 24\"\n",
              "       width=\"24px\">\n",
              "    <path d=\"M0 0h24v24H0V0z\" fill=\"none\"/>\n",
              "    <path d=\"M18.56 5.44l.94 2.06.94-2.06 2.06-.94-2.06-.94-.94-2.06-.94 2.06-2.06.94zm-11 1L8.5 8.5l.94-2.06 2.06-.94-2.06-.94L8.5 2.5l-.94 2.06-2.06.94zm10 10l.94 2.06.94-2.06 2.06-.94-2.06-.94-.94-2.06-.94 2.06-2.06.94z\"/><path d=\"M17.41 7.96l-1.37-1.37c-.4-.4-.92-.59-1.43-.59-.52 0-1.04.2-1.43.59L10.3 9.45l-7.72 7.72c-.78.78-.78 2.05 0 2.83L4 21.41c.39.39.9.59 1.41.59.51 0 1.02-.2 1.41-.59l7.78-7.78 2.81-2.81c.8-.78.8-2.07 0-2.86zM5.41 20L4 18.59l7.72-7.72 1.47 1.35L5.41 20z\"/>\n",
              "  </svg>\n",
              "      </button>\n",
              "      \n",
              "  <style>\n",
              "    .colab-df-container {\n",
              "      display:flex;\n",
              "      flex-wrap:wrap;\n",
              "      gap: 12px;\n",
              "    }\n",
              "\n",
              "    .colab-df-convert {\n",
              "      background-color: #E8F0FE;\n",
              "      border: none;\n",
              "      border-radius: 50%;\n",
              "      cursor: pointer;\n",
              "      display: none;\n",
              "      fill: #1967D2;\n",
              "      height: 32px;\n",
              "      padding: 0 0 0 0;\n",
              "      width: 32px;\n",
              "    }\n",
              "\n",
              "    .colab-df-convert:hover {\n",
              "      background-color: #E2EBFA;\n",
              "      box-shadow: 0px 1px 2px rgba(60, 64, 67, 0.3), 0px 1px 3px 1px rgba(60, 64, 67, 0.15);\n",
              "      fill: #174EA6;\n",
              "    }\n",
              "\n",
              "    [theme=dark] .colab-df-convert {\n",
              "      background-color: #3B4455;\n",
              "      fill: #D2E3FC;\n",
              "    }\n",
              "\n",
              "    [theme=dark] .colab-df-convert:hover {\n",
              "      background-color: #434B5C;\n",
              "      box-shadow: 0px 1px 3px 1px rgba(0, 0, 0, 0.15);\n",
              "      filter: drop-shadow(0px 1px 2px rgba(0, 0, 0, 0.3));\n",
              "      fill: #FFFFFF;\n",
              "    }\n",
              "  </style>\n",
              "\n",
              "      <script>\n",
              "        const buttonEl =\n",
              "          document.querySelector('#df-9706f7f5-7556-4807-b66a-7e074202ae87 button.colab-df-convert');\n",
              "        buttonEl.style.display =\n",
              "          google.colab.kernel.accessAllowed ? 'block' : 'none';\n",
              "\n",
              "        async function convertToInteractive(key) {\n",
              "          const element = document.querySelector('#df-9706f7f5-7556-4807-b66a-7e074202ae87');\n",
              "          const dataTable =\n",
              "            await google.colab.kernel.invokeFunction('convertToInteractive',\n",
              "                                                     [key], {});\n",
              "          if (!dataTable) return;\n",
              "\n",
              "          const docLinkHtml = 'Like what you see? Visit the ' +\n",
              "            '<a target=\"_blank\" href=https://colab.research.google.com/notebooks/data_table.ipynb>data table notebook</a>'\n",
              "            + ' to learn more about interactive tables.';\n",
              "          element.innerHTML = '';\n",
              "          dataTable['output_type'] = 'display_data';\n",
              "          await google.colab.output.renderOutput(dataTable, element);\n",
              "          const docLink = document.createElement('div');\n",
              "          docLink.innerHTML = docLinkHtml;\n",
              "          element.appendChild(docLink);\n",
              "        }\n",
              "      </script>\n",
              "    </div>\n",
              "  </div>\n",
              "  "
            ]
          },
          "metadata": {},
          "execution_count": 13
        }
      ],
      "source": [
        "pd.concat([decom1.observed, decom1.trend, decom1.seasonal, decom1.resid], axis=1).head(12)"
      ],
      "id": "0648371c"
    },
    {
      "cell_type": "markdown",
      "metadata": {
        "id": "f6e06ed5"
      },
      "source": [
        "### decompose using stldecompose"
      ],
      "id": "f6e06ed5"
    },
    {
      "cell_type": "code",
      "source": [
        "pip install statsmodels==0.11"
      ],
      "metadata": {
        "id": "_MUtuXsZxT8w",
        "outputId": "7fc1165c-e4e4-43b4-f40c-605bff69f680",
        "colab": {
          "base_uri": "https://localhost:8080/"
        }
      },
      "id": "_MUtuXsZxT8w",
      "execution_count": 50,
      "outputs": [
        {
          "output_type": "stream",
          "name": "stdout",
          "text": [
            "Looking in indexes: https://pypi.org/simple, https://us-python.pkg.dev/colab-wheels/public/simple/\n",
            "Collecting statsmodels==0.11\n",
            "  Downloading statsmodels-0.11.0-cp38-cp38-manylinux1_x86_64.whl (8.7 MB)\n",
            "\u001b[2K     \u001b[90m━━━━━━━━━━━━━━━━━━━━━━━━━━━━━━━━━━━━━━━━\u001b[0m \u001b[32m8.7/8.7 MB\u001b[0m \u001b[31m36.4 MB/s\u001b[0m eta \u001b[36m0:00:00\u001b[0m\n",
            "\u001b[?25hRequirement already satisfied: patsy>=0.5 in /usr/local/lib/python3.8/dist-packages (from statsmodels==0.11) (0.5.3)\n",
            "Requirement already satisfied: scipy>=1.0 in /usr/local/lib/python3.8/dist-packages (from statsmodels==0.11) (1.7.3)\n",
            "Requirement already satisfied: pandas>=0.21 in /usr/local/lib/python3.8/dist-packages (from statsmodels==0.11) (1.3.5)\n",
            "Requirement already satisfied: numpy>=1.14 in /usr/local/lib/python3.8/dist-packages (from statsmodels==0.11) (1.21.6)\n",
            "Requirement already satisfied: pytz>=2017.3 in /usr/local/lib/python3.8/dist-packages (from pandas>=0.21->statsmodels==0.11) (2022.7)\n",
            "Requirement already satisfied: python-dateutil>=2.7.3 in /usr/local/lib/python3.8/dist-packages (from pandas>=0.21->statsmodels==0.11) (2.8.2)\n",
            "Requirement already satisfied: six in /usr/local/lib/python3.8/dist-packages (from patsy>=0.5->statsmodels==0.11) (1.15.0)\n",
            "Installing collected packages: statsmodels\n",
            "  Attempting uninstall: statsmodels\n",
            "    Found existing installation: statsmodels 0.12.2\n",
            "    Uninstalling statsmodels-0.12.2:\n",
            "      Successfully uninstalled statsmodels-0.12.2\n",
            "\u001b[31mERROR: pip's dependency resolver does not currently take into account all the packages that are installed. This behaviour is the source of the following dependency conflicts.\n",
            "plotnine 0.8.0 requires statsmodels>=0.12.1, but you have statsmodels 0.11.0 which is incompatible.\u001b[0m\u001b[31m\n",
            "\u001b[0mSuccessfully installed statsmodels-0.11.0\n"
          ]
        }
      ]
    },
    {
      "cell_type": "code",
      "execution_count": 57,
      "metadata": {
        "colab": {
          "base_uri": "https://localhost:8080/"
        },
        "id": "674f65b8",
        "outputId": "00753c0e-70a5-4e94-9584-f31c48174108"
      },
      "outputs": [
        {
          "output_type": "stream",
          "name": "stdout",
          "text": [
            "\u001b[31mERROR: Invalid requirement: '=='\u001b[0m\u001b[31m\n",
            "\u001b[0m"
          ]
        }
      ],
      "source": [
        "#Installing stlddecompose package\n",
        "!pip install stldecompose == 0.0.5\n"
      ],
      "id": "674f65b8"
    },
    {
      "cell_type": "code",
      "source": [
        "yYimport statsmodels"
      ],
      "metadata": {
        "id": "LZbO0rgOtFz_"
      },
      "id": "LZbO0rgOtFz_",
      "execution_count": 21,
      "outputs": []
    },
    {
      "cell_type": "code",
      "source": [
        "stldecompose.__version__"
      ],
      "metadata": {
        "id": "kDidgzc0tpMH",
        "outputId": "0eee68b2-a811-4799-b2c8-76f1e85c3eb6",
        "colab": {
          "base_uri": "https://localhost:8080/",
          "height": 166
        }
      },
      "id": "kDidgzc0tpMH",
      "execution_count": 25,
      "outputs": [
        {
          "output_type": "error",
          "ename": "NameError",
          "evalue": "ignored",
          "traceback": [
            "\u001b[0;31m---------------------------------------------------------------------------\u001b[0m",
            "\u001b[0;31mNameError\u001b[0m                                 Traceback (most recent call last)",
            "\u001b[0;32m<ipython-input-25-b7af1aeef4e1>\u001b[0m in \u001b[0;36m<module>\u001b[0;34m\u001b[0m\n\u001b[0;32m----> 1\u001b[0;31m \u001b[0mstldecompose\u001b[0m\u001b[0;34m.\u001b[0m\u001b[0m__version__\u001b[0m\u001b[0;34m\u001b[0m\u001b[0;34m\u001b[0m\u001b[0m\n\u001b[0m",
            "\u001b[0;31mNameError\u001b[0m: name 'stldecompose' is not defined"
          ]
        }
      ]
    },
    {
      "cell_type": "code",
      "execution_count": 53,
      "metadata": {
        "id": "c10bbba6",
        "outputId": "eaa3f139-e9e6-4208-a1f5-e0461f2ae6fa",
        "colab": {
          "base_uri": "https://localhost:8080/",
          "height": 322
        }
      },
      "outputs": [
        {
          "output_type": "error",
          "ename": "ModuleNotFoundError",
          "evalue": "ignored",
          "traceback": [
            "\u001b[0;31m---------------------------------------------------------------------------\u001b[0m",
            "\u001b[0;31mModuleNotFoundError\u001b[0m                       Traceback (most recent call last)",
            "\u001b[0;32m<ipython-input-53-2fa50d2bcf09>\u001b[0m in \u001b[0;36m<module>\u001b[0;34m\u001b[0m\n\u001b[0;32m----> 1\u001b[0;31m \u001b[0;32mfrom\u001b[0m \u001b[0mstldecompose\u001b[0m \u001b[0;32mimport\u001b[0m \u001b[0mdecompose\u001b[0m\u001b[0;34m,\u001b[0m \u001b[0mforecast\u001b[0m\u001b[0;34m\u001b[0m\u001b[0;34m\u001b[0m\u001b[0m\n\u001b[0m\u001b[1;32m      2\u001b[0m \u001b[0;32mfrom\u001b[0m \u001b[0mstldecompose\u001b[0m\u001b[0;34m.\u001b[0m\u001b[0mforecast_funcs\u001b[0m \u001b[0;32mimport\u001b[0m \u001b[0;34m(\u001b[0m\u001b[0mnaive\u001b[0m\u001b[0;34m,\u001b[0m \u001b[0mdrift\u001b[0m\u001b[0;34m,\u001b[0m \u001b[0mmean\u001b[0m\u001b[0;34m,\u001b[0m \u001b[0mseasonal_naive\u001b[0m\u001b[0;34m)\u001b[0m\u001b[0;34m\u001b[0m\u001b[0;34m\u001b[0m\u001b[0m\n",
            "\u001b[0;31mModuleNotFoundError\u001b[0m: No module named 'stldecompose'",
            "",
            "\u001b[0;31m---------------------------------------------------------------------------\u001b[0;32m\nNOTE: If your import is failing due to a missing package, you can\nmanually install dependencies using either !pip or !apt.\n\nTo view examples of installing some common dependencies, click the\n\"Open Examples\" button below.\n\u001b[0;31m---------------------------------------------------------------------------\u001b[0m\n"
          ],
          "errorDetails": {
            "actions": [
              {
                "action": "open_url",
                "actionText": "Open Examples",
                "url": "/notebooks/snippets/importing_libraries.ipynb"
              }
            ]
          }
        }
      ],
      "source": [
        "from stldecompose import decompose, forecast\n",
        "from stldecompose.forecast_funcs import (naive, drift, mean, seasonal_naive)"
      ],
      "id": "c10bbba6"
    },
    {
      "cell_type": "code",
      "source": [
        "from statsmodels.tsa.seasonal import STL"
      ],
      "metadata": {
        "id": "nrM6lZe0uepA"
      },
      "id": "nrM6lZe0uepA",
      "execution_count": 34,
      "outputs": []
    },
    {
      "cell_type": "code",
      "source": [
        "STL?"
      ],
      "metadata": {
        "id": "_Zwo_O4Vvjl4"
      },
      "id": "_Zwo_O4Vvjl4",
      "execution_count": 35,
      "outputs": []
    },
    {
      "cell_type": "code",
      "execution_count": 36,
      "metadata": {
        "id": "3d1f25a4"
      },
      "outputs": [],
      "source": [
        "stl_decom = STL(df.Electricity_Consumption, period=12)"
      ],
      "id": "3d1f25a4"
    },
    {
      "cell_type": "code",
      "execution_count": 37,
      "metadata": {
        "colab": {
          "base_uri": "https://localhost:8080/",
          "height": 218
        },
        "id": "q_4RMH_xeBud",
        "outputId": "a3dcd67e-fc53-4f77-d93f-c3982abd12fc"
      },
      "outputs": [
        {
          "output_type": "error",
          "ename": "AttributeError",
          "evalue": "ignored",
          "traceback": [
            "\u001b[0;31m---------------------------------------------------------------------------\u001b[0m",
            "\u001b[0;31mAttributeError\u001b[0m                            Traceback (most recent call last)",
            "\u001b[0;32m<ipython-input-37-f13795eefa0e>\u001b[0m in \u001b[0;36m<module>\u001b[0;34m\u001b[0m\n\u001b[0;32m----> 1\u001b[0;31m \u001b[0mstl_decom_values\u001b[0m \u001b[0;34m=\u001b[0m \u001b[0mpd\u001b[0m\u001b[0;34m.\u001b[0m\u001b[0mconcat\u001b[0m\u001b[0;34m(\u001b[0m\u001b[0;34m[\u001b[0m\u001b[0mstl_decom\u001b[0m\u001b[0;34m.\u001b[0m\u001b[0mobserved\u001b[0m\u001b[0;34m,\u001b[0m \u001b[0mstl_decom\u001b[0m\u001b[0;34m.\u001b[0m\u001b[0mtrend\u001b[0m\u001b[0;34m,\u001b[0m \u001b[0mstl_decom\u001b[0m\u001b[0;34m.\u001b[0m\u001b[0mseasonal\u001b[0m\u001b[0;34m,\u001b[0m \u001b[0mstl_decom\u001b[0m\u001b[0;34m.\u001b[0m\u001b[0mresid\u001b[0m\u001b[0;34m]\u001b[0m\u001b[0;34m,\u001b[0m \u001b[0maxis\u001b[0m\u001b[0;34m=\u001b[0m\u001b[0;36m1\u001b[0m\u001b[0;34m)\u001b[0m\u001b[0;34m.\u001b[0m\u001b[0mhead\u001b[0m\u001b[0;34m(\u001b[0m\u001b[0;36m12\u001b[0m\u001b[0;34m)\u001b[0m\u001b[0;34m\u001b[0m\u001b[0;34m\u001b[0m\u001b[0m\n\u001b[0m\u001b[1;32m      2\u001b[0m \u001b[0mstl_decom_values\u001b[0m\u001b[0;34m.\u001b[0m\u001b[0mcolumns\u001b[0m \u001b[0;34m=\u001b[0m \u001b[0;34m[\u001b[0m\u001b[0;34m\"Actual\"\u001b[0m\u001b[0;34m,\u001b[0m\u001b[0;34m\"Trend\"\u001b[0m\u001b[0;34m,\u001b[0m\u001b[0;34m\"Seasonal\"\u001b[0m\u001b[0;34m,\u001b[0m\u001b[0;34m\"Irregular\"\u001b[0m\u001b[0;34m]\u001b[0m\u001b[0;34m\u001b[0m\u001b[0;34m\u001b[0m\u001b[0m\n\u001b[1;32m      3\u001b[0m \u001b[0mstl_decom_values\u001b[0m\u001b[0;34m\u001b[0m\u001b[0;34m\u001b[0m\u001b[0m\n\u001b[1;32m      4\u001b[0m \u001b[0;31m#BY default stl uses additive decomposition in additive decomposition we get few nwgative seasonal values\u001b[0m\u001b[0;34m\u001b[0m\u001b[0;34m\u001b[0m\u001b[0;34m\u001b[0m\u001b[0m\n",
            "\u001b[0;31mAttributeError\u001b[0m: 'statsmodels.tsa._stl.STL' object has no attribute 'observed'"
          ]
        }
      ],
      "source": [
        "stl_decom_values = pd.concat([stl_decom.observed, stl_decom.trend, stl_decom.seasonal, stl_decom.resid], axis=1).head(12)\n",
        "stl_decom_values.columns = [\"Actual\",\"Trend\",\"Seasonal\",\"Irregular\"]\n",
        "stl_decom_values\n",
        "#BY default stl uses additive decomposition in additive decomposition we get few nwgative seasonal values"
      ],
      "id": "q_4RMH_xeBud"
    },
    {
      "cell_type": "code",
      "execution_count": null,
      "metadata": {
        "id": "miOheV07f0M8"
      },
      "outputs": [],
      "source": [
        "\n",
        "stl_decom.plot()"
      ],
      "id": "miOheV07f0M8"
    },
    {
      "cell_type": "code",
      "execution_count": null,
      "metadata": {
        "id": "xBxWyJA9gouc"
      },
      "outputs": [],
      "source": [
        "f_cast = forecast(stl_decom,steps=24,fc_func= drift, seasonal= True)\n",
        "f_cast"
      ],
      "id": "xBxWyJA9gouc"
    },
    {
      "cell_type": "code",
      "execution_count": null,
      "metadata": {
        "id": "ht_jrrIDgOz6"
      },
      "outputs": [],
      "source": [
        "plt.figure(figsize=(25,8))\n",
        "\n",
        "plt.plot(df.Electricity_Consumption,'--', label = 'truth')\n",
        "plt.plot(stl_decom.trend, ':', label = 'decomp.trend')\n",
        "plt.plot(f_cast,\"-\",label = f_cast.columns[0])\n",
        "\n",
        "plt.legend()"
      ],
      "id": "ht_jrrIDgOz6"
    },
    {
      "cell_type": "code",
      "execution_count": null,
      "metadata": {
        "id": "oMlDdvX8kxhv"
      },
      "outputs": [],
      "source": [
        "#Checking Accuracy split\n",
        "train = df.Electricity_Consumption[:\"2018-12-01\"]\n",
        "train"
      ],
      "id": "oMlDdvX8kxhv"
    },
    {
      "cell_type": "code",
      "execution_count": null,
      "metadata": {
        "id": "GaFc7GrJljs8"
      },
      "outputs": [],
      "source": [
        "test = df.Electricity_Consumption[\"2019-01-01\":]\n",
        "test"
      ],
      "id": "GaFc7GrJljs8"
    },
    {
      "cell_type": "code",
      "execution_count": null,
      "metadata": {
        "id": "a-8vMe9PmIql"
      },
      "outputs": [],
      "source": [
        "from scipy.signal.ltisys import step\n",
        "stl_decomp1 = decompose(train,period=12) #additive decomposing\n",
        "f_cast_9m = forecast(stl_decomp1 ,steps = 9 ,fc_func= drift, seasonal= True)"
      ],
      "id": "a-8vMe9PmIql"
    },
    {
      "cell_type": "code",
      "execution_count": null,
      "metadata": {
        "id": "u0HyMC0Zob3N"
      },
      "outputs": [],
      "source": [
        "f_cast_9m"
      ],
      "id": "u0HyMC0Zob3N"
    },
    {
      "cell_type": "code",
      "execution_count": null,
      "metadata": {
        "id": "NyiYYbVUqgij"
      },
      "outputs": [],
      "source": [
        "#Calculating MAPE\n",
        "np.mean(abs(f_cast_9m['drift+seasonal']-test))"
      ],
      "id": "NyiYYbVUqgij"
    },
    {
      "cell_type": "markdown",
      "metadata": {
        "id": "mfAPsSaAyDQ3"
      },
      "source": [
        "### ETS Model\n",
        "\n",
        "ETS (Error, Trend, Seasonal) method is an approach method for forecasting time series univariate. This ETS model focuses on trend and seasonal components. The flexibility of the ETS model lies. in its ability to trend and seasonal components of different traits.\n",
        "\n",
        "Both  ARIMA and ETS models are widely used approaches in forecasting time series data. However, the two models differ in the main component that is focused on. ETS models focus on the trend and seasonality in the data while ARIMA focuses on the autocorrelations in the data."
      ],
      "id": "mfAPsSaAyDQ3"
    },
    {
      "cell_type": "code",
      "execution_count": null,
      "metadata": {
        "id": "8tzsL06U3x6f"
      },
      "outputs": [],
      "source": [
        "#ETS modelsm\n",
        "from statsmodels.tsa.holtwinters import ExponentialSmoothing"
      ],
      "id": "8tzsL06U3x6f"
    },
    {
      "cell_type": "code",
      "execution_count": null,
      "metadata": {
        "id": "5QVRoU2sKjNz"
      },
      "outputs": [],
      "source": [
        "##Backward testing"
      ],
      "id": "5QVRoU2sKjNz"
    },
    {
      "cell_type": "code",
      "execution_count": null,
      "metadata": {
        "id": "3V_s0tL-GOKI"
      },
      "outputs": [],
      "source": [
        "from sklearn.metrics import mean_absolute_error\n",
        "\n",
        "def auto_hwm(timeseries, val_split_date, alpha=[None], beta=[None], gamma=[None], \n",
        "              trend=None, seasonal=None, periods=None, verbose=False):\n",
        "\n",
        "    best_params = []\n",
        "    actual = timeseries[val_split_date:]\n",
        "\n",
        "    print('Evaluating Exponential Smoothing model for', len(alpha) * len(beta) * len(gamma), 'fits\\n')\n",
        "\n",
        "    for a in alpha:\n",
        "        for b in beta:\n",
        "            for g in gamma:\n",
        "\n",
        "                    if(verbose == True):\n",
        "                        print('Checking for', {'alpha': a, 'beta': b, 'gamma': g})\n",
        "\n",
        "                    model = ExponentialSmoothing(timeseries, trend=trend, seasonal=seasonal, seasonal_periods=periods)\n",
        "                    model = model.fit(smoothing_level=a, smoothing_slope=b, smoothing_seasonal=g)\n",
        "                    f_cast = model.fittedvalues\n",
        "                    score = (mean_absolute_error(actual, f_cast))  \n",
        "\n",
        "                    best_params.append({'alpha': a, 'beta': b, 'gamma': g, 'mae': score})\n",
        "\n",
        "    return min(best_params, key=lambda x: x['mae'])"
      ],
      "id": "3V_s0tL-GOKI"
    },
    {
      "cell_type": "code",
      "execution_count": null,
      "metadata": {
        "id": "JA_LBehQHrBP"
      },
      "outputs": [],
      "source": [
        "ts = df.Electricity_Consumption\n"
      ],
      "id": "JA_LBehQHrBP"
    },
    {
      "cell_type": "code",
      "execution_count": null,
      "metadata": {
        "id": "KCtr_M2SIUnT"
      },
      "outputs": [],
      "source": [
        "alpha = [0.1,0.2,0.3,0.4,0.5,0.6,0.7,0.8]\n",
        "beta = [0.1,0.2,0.3,0.4,0.5,0.6,0.7,0.8]\n",
        "gamma =[0.1,0.2,0.3,0.4,0.5,0.6,0.7,0.8]"
      ],
      "id": "KCtr_M2SIUnT"
    },
    {
      "cell_type": "code",
      "execution_count": null,
      "metadata": {
        "id": "vYHgojrl9Dwf"
      },
      "outputs": [],
      "source": [
        "auto_hwm(ts, val_split_date ='1973-01-01' , alpha=alpha, beta=beta, gamma=gamma, trend='mul', seasonal='mul', periods=12, verbose=True)"
      ],
      "id": "vYHgojrl9Dwf"
    },
    {
      "cell_type": "markdown",
      "metadata": {
        "id": "ImZDITuR9ubR"
      },
      "source": [
        "### Checking Model Accuracy"
      ],
      "id": "ImZDITuR9ubR"
    },
    {
      "cell_type": "code",
      "execution_count": null,
      "metadata": {
        "id": "gpM6w3RjBXQa"
      },
      "outputs": [],
      "source": [
        "ets_model1 = ExponentialSmoothing(train , trend='mul', seasonal='mul', seasonal_periods=13).fit(smoothing_level=0.6, smoothing_slope=0.1, smoothing_seasonal=0.2)"
      ],
      "id": "gpM6w3RjBXQa"
    },
    {
      "cell_type": "code",
      "execution_count": null,
      "metadata": {
        "id": "uSY2bHLK4Bld"
      },
      "outputs": [],
      "source": [
        "ets_model = ExponentialSmoothing(train , trend='mul', seasonal='mul', seasonal_periods=13).fit(smoothing_level=0.1, smoothing_slope=0.5, smoothing_seasonal=0.2)"
      ],
      "id": "uSY2bHLK4Bld"
    },
    {
      "cell_type": "code",
      "execution_count": null,
      "metadata": {
        "id": "s4VnNj1-Bmd5"
      },
      "outputs": [],
      "source": [
        "fcast1 = ets_model1.forecast(9)\n",
        "fcast1"
      ],
      "id": "s4VnNj1-Bmd5"
    },
    {
      "cell_type": "code",
      "execution_count": null,
      "metadata": {
        "id": "5nWsB4Qs4M4m"
      },
      "outputs": [],
      "source": [
        "fcast = ets_model.forecast(9)\n",
        "fcast"
      ],
      "id": "5nWsB4Qs4M4m"
    },
    {
      "cell_type": "code",
      "execution_count": null,
      "metadata": {
        "id": "Jlbp9xKy6yP0"
      },
      "outputs": [],
      "source": [
        "# Error Measurement\n",
        "print('test error', np.mean(np.abs(test - fcast)))\n",
        "print(mean_absolute_error(test,fcast))"
      ],
      "id": "Jlbp9xKy6yP0"
    },
    {
      "cell_type": "code",
      "execution_count": null,
      "metadata": {
        "id": "X9ahiN1OiPp_"
      },
      "outputs": [],
      "source": [
        "# Error Measurement\n",
        "print('test error', np.mean(np.abs(test - fcast1)))\n",
        "print(mean_absolute_error(test,fcast1))"
      ],
      "id": "X9ahiN1OiPp_"
    },
    {
      "cell_type": "code",
      "execution_count": null,
      "metadata": {
        "id": "6V2Iq54vjlN3"
      },
      "outputs": [],
      "source": [
        "### Forecast\n",
        "ets_model.forecast(31)"
      ],
      "id": "6V2Iq54vjlN3"
    },
    {
      "cell_type": "code",
      "execution_count": null,
      "metadata": {
        "id": "N3ZgRphqByMc"
      },
      "outputs": [],
      "source": [
        "print(ets_model.summary())"
      ],
      "id": "N3ZgRphqByMc"
    },
    {
      "cell_type": "code",
      "execution_count": null,
      "metadata": {
        "id": "iOPx6GL3ETz-"
      },
      "outputs": [],
      "source": [
        "# Identify pdq \n",
        "# need to apply Sarima\n",
        "#ACF plots PACF plots ADF test and the series is stationary or not\n",
        "\n",
        "from statsmodels.tsa.stattools import acf, pacf_ols"
      ],
      "id": "iOPx6GL3ETz-"
    },
    {
      "cell_type": "code",
      "execution_count": null,
      "metadata": {
        "id": "DZi4iqT9rP1B"
      },
      "outputs": [],
      "source": [
        "acf(ts) "
      ],
      "id": "DZi4iqT9rP1B"
    },
    {
      "cell_type": "code",
      "execution_count": null,
      "metadata": {
        "id": "ptHYUrGNHEyi"
      },
      "outputs": [],
      "source": [
        "pacf_ols(ts)"
      ],
      "id": "ptHYUrGNHEyi"
    },
    {
      "cell_type": "code",
      "execution_count": null,
      "metadata": {
        "id": "MXN3_UKNHVhJ"
      },
      "outputs": [],
      "source": [
        "import statsmodels.tsa.api as smt"
      ],
      "id": "MXN3_UKNHVhJ"
    },
    {
      "cell_type": "code",
      "execution_count": null,
      "metadata": {
        "id": "lkUEwa6fHaaP"
      },
      "outputs": [],
      "source": [
        "# can check stationary or not\n",
        "# ARIMA model possible or not\n",
        "# Having pattern hence data has seasonality\n",
        "# Note- If Auto correlation value not coming close to zero or crossing zero means it is a non stationary series\n",
        "smt.graphics.plot_acf(ts, lags=24)"
      ],
      "id": "lkUEwa6fHaaP"
    },
    {
      "cell_type": "code",
      "execution_count": null,
      "metadata": {
        "id": "mmoYX0kGHd8d"
      },
      "outputs": [],
      "source": [
        "smt.graphics.plot_pacf(ts, lags = 24, method='ols')\n"
      ],
      "id": "mmoYX0kGHd8d"
    },
    {
      "cell_type": "code",
      "execution_count": null,
      "metadata": {
        "id": "-7GHoID2Hkyd"
      },
      "outputs": [],
      "source": [
        "#Is the series stationary?\n",
        "#To make it a stationary series we can use following methods\n",
        "# Take log transformation\n",
        "#detrend the series\n",
        "#deseasonalise the series\n",
        "# take differencing\n",
        "# or use combination of that\n",
        "# Perform Dickey-Fuller test:\n",
        "from statsmodels.tsa.stattools import adfuller\n",
        "adfuller(ts)   #p-value: 0.9952   , since p-value is high, the series(ts) is not stationary"
      ],
      "id": "-7GHoID2Hkyd"
    },
    {
      "cell_type": "code",
      "execution_count": null,
      "metadata": {
        "id": "1Z96WyC_HuHp"
      },
      "outputs": [],
      "source": [
        "#Taking log of value\n",
        "ts_log = np.log(ts)"
      ],
      "id": "1Z96WyC_HuHp"
    },
    {
      "cell_type": "code",
      "execution_count": null,
      "metadata": {
        "id": "AMR689LbTB6_"
      },
      "outputs": [],
      "source": [
        "adfuller(ts_log) #p-value = 0.41446449274910446, since p-value is low, the series(ln_ts) is stationary"
      ],
      "id": "AMR689LbTB6_"
    },
    {
      "cell_type": "code",
      "execution_count": null,
      "metadata": {
        "id": "MBr-OjHJHyCT"
      },
      "outputs": [],
      "source": [
        "stationary_series = ts_log\n",
        "stationary_series"
      ],
      "id": "MBr-OjHJHyCT"
    },
    {
      "cell_type": "code",
      "execution_count": null,
      "metadata": {
        "id": "VFaasd5uTb0G"
      },
      "outputs": [],
      "source": [
        "smt.graphics.plot_acf(stationary_series, lags=24)"
      ],
      "id": "VFaasd5uTb0G"
    },
    {
      "cell_type": "code",
      "execution_count": null,
      "metadata": {
        "id": "zzC7cLgpTbXV"
      },
      "outputs": [],
      "source": [
        "stat_ser = ts.diff().dropna()"
      ],
      "id": "zzC7cLgpTbXV"
    },
    {
      "cell_type": "code",
      "execution_count": null,
      "metadata": {
        "id": "RTj2XX-eRK0G"
      },
      "outputs": [],
      "source": [
        "smt.graphics.plot_acf(stat_ser, lags=24)\n",
        "#The plot loooks simillar at places it indicates it data has seasonality and we need to perform sarima model for this\n",
        "#WE can conclude q values by looking at plot -- after which lag value crossing zero (here it is after lag 1) hence q = 1"
      ],
      "id": "RTj2XX-eRK0G"
    },
    {
      "cell_type": "code",
      "execution_count": null,
      "metadata": {
        "id": "NNPYoonxIW06"
      },
      "outputs": [],
      "source": [
        "smt.graphics.plot_pacf(stationary_series, lags=24)\n",
        "#WE can conclude p values by looking at plot -- after which lag value crossing zero (here it is after lag 1) hence p = 1"
      ],
      "id": "NNPYoonxIW06"
    },
    {
      "cell_type": "code",
      "execution_count": null,
      "metadata": {
        "id": "2vUmDB2OQXFR"
      },
      "outputs": [],
      "source": [
        "#Now P D T Q for SARIMA\n",
        "# T - time period after which number is repeating\n",
        "# P - will be approximatly equal to p\n",
        "# Q - will be approximatly equal to q\n",
        "# D = 0 As series is stationary\n",
        "\n",
        "# Note to find exact values of p,d,q we perform iterations\n",
        "\n",
        "arima_input = np.log(ts)\n",
        "\n",
        "import statsmodels.api as sm\n",
        "\n",
        "model = sm.tsa.statespace.SARIMAX(arima_input, order = (1,1,1), seasonal_order= (1,0,1,12),\n",
        "                                             enforce_stationarity=False,\n",
        "                                             enforce_invertibility=False).fit()\n",
        "\n",
        "print(model.summary())\n"
      ],
      "id": "2vUmDB2OQXFR"
    },
    {
      "cell_type": "code",
      "execution_count": null,
      "metadata": {
        "id": "eK2-o7rkdU08"
      },
      "outputs": [],
      "source": [
        "#import sys\n",
        "import itertools\n",
        "import warnings\n",
        "\n",
        "#regressor is for multivariate timeseries\n",
        "def auto_arima(arima_input, regressors=None, p=range(0, 2), d=range(0, 1), q=range(0, 2),\n",
        "              P=range(0, 2), D=range(0, 1), Q=range(0, 2)):\n",
        "\n",
        "    # Generate all different combinations of p, d and q triplets\n",
        "    pdq = list(itertools.product(p, d, q))\n",
        "\n",
        "    # Generate all different combinations of seasonal p, q and q triplets\n",
        "    seasonal_pdq = [(x[0], x[1], x[2], 12) for x in list(itertools.product(P, D, Q))]\n",
        "    \n",
        "    warnings.filterwarnings(\"ignore\") # specify to ignore warning messages\n",
        "\n",
        "    best_aic = np.inf\n",
        "    best_pdq = None\n",
        "    best_seasonal_pdq = None\n",
        "    best_results = None\n",
        "    \n",
        "    for param in pdq:\n",
        "        for param_seasonal in seasonal_pdq:\n",
        "\n",
        "            try:\n",
        "                temp_model = sm.tsa.statespace.SARIMAX(endog=arima_input,\n",
        "                                                 exog=regressors,\n",
        "                                                 order = param,\n",
        "                                                 seasonal_order = param_seasonal,\n",
        "                                                 enforce_stationarity=False,\n",
        "                                                 enforce_invertibility=False)\n",
        "                temp_results = temp_model.fit()\n",
        "\n",
        "                print(\"SARIMAX{}x{}12 - AIC:{}\".format(param, param_seasonal, temp_results.aic))\n",
        "                \n",
        "                if temp_results.aic < best_aic:\n",
        "                    best_aic = temp_results.aic\n",
        "                    best_pdq = param\n",
        "                    best_seasonal_pdq = param_seasonal\n",
        "                    best_results = temp_results\n",
        "                \n",
        "            except:\n",
        "                #print(\"Unexpected error:\", sys.exc_info()[0])\n",
        "                continue\n",
        "    print(\"Best SARIMAX{}x{}12 model - AIC:{}\".format(best_pdq, best_seasonal_pdq, best_aic))\n",
        "    print(best_results.summary().tables[0])\n",
        "    print(best_results.summary().tables[1])\n",
        "    #return best_results"
      ],
      "id": "eK2-o7rkdU08"
    },
    {
      "cell_type": "code",
      "execution_count": null,
      "metadata": {
        "id": "c6Ejz8dQgndL"
      },
      "outputs": [],
      "source": [
        "best_results = auto_arima(arima_input,  p=range(0, 3), d=range(0,1), q=range(0, 3),\n",
        "                         P=range(0, 3), D=range(0,1), Q=range(0, 3))    #Number of models = 3*1*3*3*2*3 = 162"
      ],
      "id": "c6Ejz8dQgndL"
    },
    {
      "cell_type": "code",
      "execution_count": null,
      "metadata": {
        "id": "wuMQ5dxlgwob"
      },
      "outputs": [],
      "source": [
        "#deee\n",
        "\n",
        "#kauhi"
      ],
      "id": "wuMQ5dxlgwob"
    }
  ],
  "metadata": {
    "colab": {
      "collapsed_sections": [
        "1a9d4969",
        "ab2f7d26",
        "685053bf"
      ],
      "name": "TimeSeries Forecasting Assignment.ipynb",
      "provenance": [],
      "include_colab_link": true
    },
    "gpuClass": "standard",
    "kernelspec": {
      "display_name": "Python 3 (ipykernel)",
      "language": "python",
      "name": "python3"
    },
    "language_info": {
      "codemirror_mode": {
        "name": "ipython",
        "version": 3
      },
      "file_extension": ".py",
      "mimetype": "text/x-python",
      "name": "python",
      "nbconvert_exporter": "python",
      "pygments_lexer": "ipython3",
      "version": "3.9.12"
    }
  },
  "nbformat": 4,
  "nbformat_minor": 5
}